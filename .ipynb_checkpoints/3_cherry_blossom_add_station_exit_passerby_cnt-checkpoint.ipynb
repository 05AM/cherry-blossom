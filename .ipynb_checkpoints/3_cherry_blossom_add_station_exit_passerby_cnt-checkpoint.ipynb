{
 "cells": [
  {
   "cell_type": "code",
   "execution_count": 1,
   "metadata": {},
   "outputs": [],
   "source": [
    "import pandas as pd\n",
    "\n",
    "loc_data = pd.read_csv('source/cherryblossom_loc_selected_station.csv',\n",
    "                     sep=',', engine='python')"
   ]
  },
  {
   "cell_type": "markdown",
   "metadata": {},
   "source": [
    "## 시간별 지하철 역 입구 통행자 정보 가져오기"
   ]
  },
  {
   "cell_type": "code",
   "execution_count": 2,
   "metadata": {},
   "outputs": [],
   "source": [
    "import requests\n",
    "import os\n",
    "from dotenv import load_dotenv\n",
    "load_dotenv()\n",
    "\n",
    "# 수정\n",
    "api_key = os.getenv(\"SKT_API_KEY\")"
   ]
  },
  {
   "cell_type": "markdown",
   "metadata": {},
   "source": [
    "## 역 코드로 출구 통행량 가져오기"
   ]
  },
  {
   "cell_type": "code",
   "execution_count": 3,
   "metadata": {},
   "outputs": [],
   "source": [
    "def get_user_cnt_by_station_code(station_code, date):\n",
    "    url = f\"https://apis.openapi.sk.com/puzzle/subway/exit/raw/hourly/stations/{station_code}\"\n",
    "\n",
    "    headers = {\n",
    "        \"accept\": \"application/json\",\n",
    "        \"Content-Type\": \"application/json\",\n",
    "        \"appkey\": api_key\n",
    "    }\n",
    "\n",
    "    params = {\n",
    "        \"gender\": \"all\",\n",
    "        \"ageGrp\": \"all\",\n",
    "        \"date\": date\n",
    "    }\n",
    "\n",
    "    response = requests.get(url, headers=headers, params=params)\n",
    "    \n",
    "    return response"
   ]
  },
  {
   "cell_type": "markdown",
   "metadata": {},
   "source": [
    "## 낮(09-16), 밤(17-23) 각각의 총 출구 통행량 구하기"
   ]
  },
  {
   "cell_type": "markdown",
   "metadata": {},
   "source": [
    "<b>유료 api라 호출할 때마다 비용이 청구됩니다..ㅠ</b>"
   ]
  },
  {
   "cell_type": "code",
   "execution_count": 4,
   "metadata": {},
   "outputs": [],
   "source": [
    "def caculate_passenger_data(data, user_day_cnt_list, user_night_cnt_list):\n",
    "    user_cnt_day = 0\n",
    "    user_cnt_night = 0\n",
    "    \n",
    "    # 통행자 수 계산\n",
    "    for raw in data['contents']['raw']:\n",
    "        if raw['exit'] == str(row['exit_num']):\n",
    "            if raw['datetime'] >= (str(date)+\"090000\") and raw['datetime'] < (str(date)+\"170000\"):\n",
    "                user_cnt_day += (int(raw['userCount']) if raw['userCount'] != None else 0)\n",
    "            elif raw['datetime'] >= (str(date)+\"170000\"):\n",
    "                user_cnt_night += (int(raw['userCount']) if raw['userCount'] != None else 0)\n",
    "\n",
    "    # 리스트에 저장\n",
    "    user_cnt_day_list.append(user_cnt_day)\n",
    "    user_cnt_night_list.append(user_cnt_night)"
   ]
  },
  {
   "cell_type": "code",
   "execution_count": 5,
   "metadata": {
    "scrolled": true
   },
   "outputs": [],
   "source": [
    "date = 20230401\n",
    "\n",
    "for i in range(1, 8):\n",
    "    user_cnt_day_list = []\n",
    "    user_cnt_night_list = []\n",
    "    \n",
    "    for index, row in loc_data.iterrows():\n",
    "        data = get_user_cnt_by_station_code(row['station_code'], date).json()\n",
    "        caculate_passenger_data(data, user_cnt_day_list, user_cnt_night_list)\n",
    "    # 통행량 데이터\n",
    "    loc_data_temp = loc_data\n",
    "    loc_data_temp['user_cnt_day'] = user_cnt_day_list\n",
    "    loc_data_temp['user_cnt_night'] = user_cnt_night_list\n",
    "    \n",
    "    file_path = 'source/cherryblossom_final_{}.csv'.format(date)\n",
    "    loc_data_temp.to_csv(file_path,\n",
    "                      encoding='cp949', mode='w', index=False)\n",
    "    date += 1"
   ]
  }
 ],
 "metadata": {
  "kernelspec": {
   "display_name": "Python 3",
   "language": "python",
   "name": "python3"
  },
  "language_info": {
   "codemirror_mode": {
    "name": "ipython",
    "version": 3
   },
   "file_extension": ".py",
   "mimetype": "text/x-python",
   "name": "python",
   "nbconvert_exporter": "python",
   "pygments_lexer": "ipython3",
   "version": "3.7.6"
  }
 },
 "nbformat": 4,
 "nbformat_minor": 4
}
