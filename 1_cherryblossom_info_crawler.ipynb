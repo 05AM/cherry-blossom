{
 "cells": [
  {
   "cell_type": "code",
   "execution_count": 1,
   "metadata": {},
   "outputs": [],
   "source": [
    "from bs4 import BeautifulSoup as bs\n",
    "import urllib.request\n",
    "import pandas as pd\n",
    "import re\n",
    "\n",
    "import os\n",
    "from dotenv import load_dotenv\n",
    "load_dotenv()\n",
    "\n",
    "# API 키와 검색어 설정\n",
    "api_key = os.getenv(\"GOOGLE_API_KEY\")"
   ]
  },
  {
   "cell_type": "markdown",
   "metadata": {},
   "source": [
    "## Google maps 주소 가져오기"
   ]
  },
  {
   "cell_type": "code",
   "execution_count": 2,
   "metadata": {},
   "outputs": [],
   "source": [
    "import requests\n",
    "\n",
    "def get_address_from_google_maps(query):\n",
    "    url = f\"https://maps.googleapis.com/maps/api/geocode/json\"\n",
    "\n",
    "    params = {\n",
    "        \"address\": query,\n",
    "        \"key\": api_key,\n",
    "        \"language\": \"ko\"\n",
    "    }\n",
    "\n",
    "    response = requests.get(url, params=params)\n",
    "    data = response.json()\n",
    "\n",
    "    if response.status_code == 200 and data[\"status\"] == \"OK\":\n",
    "        results = data[\"results\"]\n",
    "        if results:\n",
    "            address = results[0][\"formatted_address\"]\n",
    "            return address\n",
    "\n",
    "    return None"
   ]
  },
  {
   "cell_type": "markdown",
   "metadata": {},
   "source": [
    "## Google 검색결과 개수 가져오기"
   ]
  },
  {
   "cell_type": "code",
   "execution_count": 3,
   "metadata": {},
   "outputs": [],
   "source": [
    "def get_google_search_results_count(query):\n",
    "    url = f\"https://www.google.com/search?q={query}\"\n",
    "    headers = {\n",
    "        'User-Agent': 'Mozilla/5.0 (Windows NT 10.0; Win64; x64) AppleWebKit/537.36 (KHTML, like Gecko) Chrome/91.0.4472.124 Safari/537.36'\n",
    "    }\n",
    "\n",
    "    response = requests.get(url, headers=headers)\n",
    "    soup = bs(response.text, 'html.parser')\n",
    "\n",
    "    result_stats = soup.find(id='result-stats')\n",
    "    if result_stats:\n",
    "        string = ''.join(result_stats.find(text=True, recursive=False)).strip()\n",
    "        numbers = re.findall(r'\\d+', string)\n",
    "        count = ''.join(numbers)\n",
    "        return count\n",
    "    else:\n",
    "        return None"
   ]
  },
  {
   "cell_type": "markdown",
   "metadata": {},
   "source": [
    "## 데이터 가져오기"
   ]
  },
  {
   "cell_type": "code",
   "execution_count": 15,
   "metadata": {},
   "outputs": [],
   "source": [
    "def cherryblossom_info(result):\n",
    "    cherryblossom_url = 'https://www.seoul.go.kr/storyw/springflowerway/list.do?search_gu=&search_road='\n",
    "    html = urllib.request.urlopen(cherryblossom_url)\n",
    "    soup = bs(html, 'html.parser')\n",
    "    \n",
    "    tag_article = soup.find('section', {'id' : 'content'})\n",
    "        \n",
    "    for loc in tag_article.find_all('article'):\n",
    "        h3_tag = loc.find('h3')\n",
    "        loc_name = ''.join(h3_tag.find(text=True, recursive=False)).strip()\n",
    "        loc_name = re.sub(\"[\\r\\t\\n]\", '', loc_name)\n",
    "        \n",
    "        loc_dd = loc.find_all('dd')\n",
    "        loc_main_flower = loc_dd[0].string\n",
    "        \n",
    "        # 데이터 전처리\n",
    "        # 벚꽃이 없으면\n",
    "        if '벚꽃' not in loc_main_flower:\n",
    "            continue\n",
    "            \n",
    "        # address가 None이면\n",
    "        loc_address = loc.find('strong').string if loc.find('strong').string != None else get_address_from_google_maps(re.sub(r'\\([^()]*\\)', '', loc_name))\n",
    "        \n",
    "        #예외\n",
    "        if loc_name == '불광천변 (응암역~DMC역)':\n",
    "            loc_address = '서울특별시 은평구 불광천길'\n",
    "        elif loc_name == '불광천변(증산교~응암로5길)':\n",
    "            loc_address = '서울특별시 서대문구 불광천길'\n",
    "        elif loc_name == '중랑천변':\n",
    "            loc_address = '서울특별시 중랑구 면목동 중랑천둔치'\n",
    "        elif loc_name == '중랑천제방(공원녹지순환길)':\n",
    "            loc_address = '서울특별시 중랑구 중화동 410-11 중랑천제방'\n",
    "        elif loc_name == '여의 동·서로(윤중로)':\n",
    "            loc_address = '서울특별시 영등포구 여의도동 여의서로'\n",
    "        elif loc_name == '보라매공원 관리사무소 앞 벚나무길':\n",
    "            loc_address = '서울특별시 동작구 여의대방로20길 33 보라매공원'\n",
    "        elif loc_name == '도영로(신도림역~도림고가)':\n",
    "            loc_address = '서울특별시 영등포구 도영로'\n",
    "        elif loc_name == '양재천 제방':\n",
    "            loc_address = '서울특별시 강남구 양재천로'\n",
    "        elif loc_name == '양재천변':\n",
    "            loc_address = '서울특별시 서초구 양재동 양재천'\n",
    "        elif loc_name == '묵동교~장평교(하천제방길)':\n",
    "            loc_address = '서울특별시 중랑구 묵동 묵동교'\n",
    "        elif loc_name == '워커힐길':\n",
    "            loc_address = '서울특별시 광진구 광장동 워커힐길'\n",
    "        elif loc_name == '서울숲 생태숲, 군마상':\n",
    "            loc_address = '서울특별시 성동구 뚝섬로 273 서울숲공원'\n",
    "        elif loc_name == '북서울 꿈의 숲 월영지 주변':\n",
    "            loc_address = '서울특별시 강북구 월계로 173 북서울 꿈의 숲'\n",
    "        elif loc_name == '우면산 둘레길':\n",
    "            loc_address = '서울특별시 서초구 우면산'\n",
    "        elif loc_name == '안양천 제방(양화교~오금교)':\n",
    "            loc_address = '서울특별시 양천구 목동 양화교'\n",
    "        elif loc_name == '안양천 제방(신정교~양평교)':\n",
    "            loc_address = '서울특별시 영등포구 양평동 487 안양천 제방길'\n",
    "        elif loc_name == '안양천 제방(시흥대교~ 철산교)':\n",
    "            loc_address = '서울특별시 금천구 가산동 562-3 안양천 벚꽃길'\n",
    "        elif loc_name == '안양천 제방(신정교~고척교)':\n",
    "            loc_address = '서울특별시 구로구 안양천로'\n",
    "        elif loc_name == '꿩고개근린공원':\n",
    "            loc_address = '서울특별시 강서구 방화동 꿩고개근린공원'\n",
    "        elif loc_name == '통인시장~ 필운대로':\n",
    "            loc_address = '서울특별시 종로구 사직로 95'\n",
    "        \n",
    "        loc_season = loc_dd[1].string \n",
    "        loc_length = loc_dd[2].string\n",
    "        tag_p = loc.find_all('p')\n",
    "        loc_gu = tag_p[0].string\n",
    "        if loc_gu == '경기과천':\n",
    "            continue\n",
    "        loc_feature = ''.join(tag_p[1].find(text=True, recursive=False)).strip()\n",
    "        loc_result_stats = get_google_search_results_count(re.sub(r'\\([^()]*\\)', '', loc_name) + '벚꽃')\n",
    "        if loc_name == '여의 동·서로(윤중로)':\n",
    "            loc_result_stats = get_google_search_results_count('여의도 벚꽃')\n",
    "        elif loc_name == '송파나루공원(석촌호수)':\n",
    "            loc_result_stats = get_google_search_results_count('석촌호수 벚꽃')\n",
    "        elif loc_name == '벚꽃로(독산역~가산디지털단지역)':\n",
    "            loc_result_stats = get_google_search_results_count('금천구 벚꽃로 벚꽃')\n",
    "        elif loc_name == '거리공원':\n",
    "            loc_result_stats = get_google_search_results_count('금천구 거리공원 벚꽃')\n",
    "        elif loc_name == '오리로':\n",
    "            loc_result_stats = get_google_search_results_count('구로구 오리로 벚꽃')\n",
    "        elif loc_name == '도구로(도구머리꽃길)':\n",
    "            loc_result_stats = get_google_search_results_count('서초구 도구로 벚꽃')\n",
    "        \n",
    "        result.append([loc_name] + [loc_address] + [loc_gu] + [loc_main_flower] + \n",
    "                      [loc_season] + [loc_length] +  [loc_feature] + [loc_result_stats])\n",
    "\n",
    "    return"
   ]
  },
  {
   "cell_type": "code",
   "execution_count": 16,
   "metadata": {},
   "outputs": [],
   "source": [
    "def main():\n",
    "    result = []\n",
    "    cherryblossom_info(result)\n",
    "    cherryblossom_tbl = pd.DataFrame(result, columns=(\n",
    "        'loc_name', 'address', 'gu', 'main_flower', 'season', 'length', 'feature', 'result_stats'))\n",
    "    cherryblossom_tbl.to_csv('source/cherryblossom_loc.csv',\n",
    "                      encoding='cp949', mode='w', index=False)\n",
    "    print(cherryblossom_tbl.head())\n",
    "    result.clear()"
   ]
  },
  {
   "cell_type": "code",
   "execution_count": 17,
   "metadata": {
    "scrolled": false
   },
   "outputs": [
    {
     "name": "stdout",
     "output_type": "stream",
     "text": [
      "           loc_name              address   gu main_flower   season length  \\\n",
      "0  곰달래로(목동사거리~동호빌딩)   서울특별시 강서구 곰달래로 246  강서구          벚꽃  4월중~4월말   0.4㎞   \n",
      "1              방화공원   서울특별시 강서구 금낭화로 167  강서구          벚꽃  4월중~4월말   2.0㎞   \n",
      "2            화곡로 4길     서울특별시 양천구 화곡로 50  양천구          벚꽃  4월중~6월초   0.4㎞   \n",
      "3    신정중앙로(성은@~목동역)  서울특별시 양천구 신정중앙로 107  양천구          벚꽃  4월중~6월초   1.0㎞   \n",
      "4   안양천 제방(양화교~오금교)     서울특별시 양천구 목동 양화교  양천구     벚꽃, 살구꽃  4월중~4월말   2.0㎞   \n",
      "\n",
      "                                     feature result_stats  \n",
      "0         곰달래길 가로변에 왕벚나무가 아름다운 자태를 자랑함(드라이브)        37000  \n",
      "1                    개화산과 연계되어 봄꽃이 아름다움(나들이)       245000  \n",
      "2          걷고싶은거리로 조성되어 벚꽃 가로수를 감상할 수 있음(산책)       302000  \n",
      "3  도로 양방향에 왕벚나무 가로수가 식재되어 있고 차량통행이 적은 곳임(산책)        68500  \n",
      "4      제방위 산책로에 벚꽃과 살구꽃이 아름다운 경관을 연출(산책, 운동)        11200  \n"
     ]
    }
   ],
   "source": [
    "main()"
   ]
  }
 ],
 "metadata": {
  "kernelspec": {
   "display_name": "Python 3",
   "language": "python",
   "name": "python3"
  },
  "language_info": {
   "codemirror_mode": {
    "name": "ipython",
    "version": 3
   },
   "file_extension": ".py",
   "mimetype": "text/x-python",
   "name": "python",
   "nbconvert_exporter": "python",
   "pygments_lexer": "ipython3",
   "version": "3.7.6"
  }
 },
 "nbformat": 4,
 "nbformat_minor": 4
}
